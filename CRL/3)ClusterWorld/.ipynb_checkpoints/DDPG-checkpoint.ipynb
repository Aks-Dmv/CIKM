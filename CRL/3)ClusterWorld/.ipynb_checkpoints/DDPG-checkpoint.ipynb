{
 "cells": [
  {
   "cell_type": "markdown",
   "metadata": {},
   "source": [
    "# Deep Deterministic Policy Gradients (DDPG)\n",
    "---\n",
    "In this notebook, we train DDPG with OpenAI Gym's BipedalWalker-v2 environment.\n",
    "\n",
    "### 1. Import the Necessary Packages"
   ]
  },
  {
   "cell_type": "code",
   "execution_count": 1,
   "metadata": {},
   "outputs": [
    {
     "name": "stderr",
     "output_type": "stream",
     "text": [
      "Using TensorFlow backend.\n"
     ]
    }
   ],
   "source": [
    "import gym\n",
    "import numpy as np\n",
    "import random\n",
    "import copy\n",
    "from collections import namedtuple, deque\n",
    "from replay_buffer import ReplayBuffer\n",
    "\n",
    "import tensorflow as tf\n",
    "from keras import backend as K\n",
    "from keras.layers import Dense, Input, Add, Activation,LeakyReLU\n",
    "from keras.layers import GaussianNoise, Dropout, Concatenate\n",
    "from keras.models import Model\n",
    "from keras.optimizers import Adam\n",
    "import matplotlib.pyplot as plt\n",
    "%matplotlib inline\n",
    "\n",
    "from ddpg_agent import Agent\n",
    "from ClusterWorld import ClusterWorldEnv\n",
    "from infoCalc import *"
   ]
  },
  {
   "cell_type": "markdown",
   "metadata": {},
   "source": [
    "### 2. Instantiate the Environment and Agent"
   ]
  },
  {
   "cell_type": "code",
   "execution_count": 2,
   "metadata": {},
   "outputs": [
    {
     "name": "stdout",
     "output_type": "stream",
     "text": [
      "4\n",
      "WARNING:tensorflow:From /usr/local/lib/python3.7/site-packages/tensorflow/python/framework/op_def_library.py:263: colocate_with (from tensorflow.python.framework.ops) is deprecated and will be removed in a future version.\n",
      "Instructions for updating:\n",
      "Colocations handled automatically by placer.\n"
     ]
    }
   ],
   "source": [
    "sess = tf.Session()\n",
    "K.set_session(sess)\n",
    "\n",
    "env = ClusterWorldEnv()\n",
    "env.seed(10)\n",
    "print(env.action_space.shape[0])\n",
    "agent = Agent(env, sess,state_size=env.observation_space.shape[0], action_size=env.action_space.shape[0], random_seed=10)\n",
    "#agent.NetworkSummary()\n",
    "agent.load_network('savedModels/', 'saved.h5')"
   ]
  },
  {
   "cell_type": "markdown",
   "metadata": {},
   "source": [
    "### 3. Train the Agent with DDPG\n",
    "\n",
    "Run the code cell below to train the agent from scratch.  Alternatively, you can skip to the next code cell to load the pre-trained weights from file."
   ]
  },
  {
   "cell_type": "code",
   "execution_count": 3,
   "metadata": {},
   "outputs": [
    {
     "name": "stdout",
     "output_type": "stream",
     "text": [
      "Episode 26\tAverage Score: -632.74\tScore: -412.710WARNING:tensorflow:From /usr/local/lib/python3.7/site-packages/tensorflow/python/ops/math_ops.py:3066: to_int32 (from tensorflow.python.ops.math_ops) is deprecated and will be removed in a future version.\n",
      "Instructions for updating:\n",
      "Use tf.cast instead.\n",
      "Episode 100\tAverage Score: -557.43\tScore: -1000.00[0.36867648 0.24038464 0.39093885 3.3114429 ]\n",
      "Episode 100\tAverage Score: -557.43\n",
      "Episode 200\tAverage Score: -633.26\tScore: -1000.00[0.36234426 0.19295307 0.44470268 6.5556192 ]\n",
      "Episode 200\tAverage Score: -633.26\n",
      "Episode 300\tAverage Score: -520.75\tScore: -316.34[0.21534783 0.37234393 0.4123083  8.669831  ]\n",
      "Episode 300\tAverage Score: -520.75\n",
      "Episode 400\tAverage Score: -495.98\tScore: -1000.00[0.26653674 0.36407658 0.36938667 4.6128125 ]\n",
      "Episode 400\tAverage Score: -495.98\n",
      "Episode 500\tAverage Score: -473.44\tScore: -491.570[0.3603796  0.25435203 0.38526836 5.993844  ]\n",
      "Episode 500\tAverage Score: -473.44\n",
      "Episode 600\tAverage Score: -484.68\tScore: -114.01[0.2125803  0.36241442 0.42500532 9.155439  ]\n",
      "Episode 600\tAverage Score: -484.68\n",
      "Episode 700\tAverage Score: -527.22\tScore: -1000.00[0.25238043 0.2539708  0.49364874 6.928717  ]\n",
      "Episode 700\tAverage Score: -527.22\n",
      "Episode 800\tAverage Score: -578.61\tScore: -1000.00[0.34237233 0.26110888 0.39651877 7.3573523 ]\n",
      "Episode 800\tAverage Score: -578.61\n",
      "Episode 900\tAverage Score: -437.69\tScore: -322.97[0.2872182  0.27674854 0.43603322 9.421489  ]\n",
      "Episode 900\tAverage Score: -437.69\n",
      "Episode 1000\tAverage Score: -403.60\tScore: -1000.00[ 0.26965335  0.36394763  0.36639908 10.143429  ]\n",
      "Episode 1000\tAverage Score: -403.60\n",
      "Episode 1100\tAverage Score: -473.41\tScore: -139.670[0.25085512 0.20938236 0.5397625  9.279088  ]\n",
      "Episode 1100\tAverage Score: -473.41\n",
      "Episode 1200\tAverage Score: -447.87\tScore: -312.28[ 0.22947784  0.32664382  0.4438783  10.802134  ]\n",
      "Episode 1200\tAverage Score: -447.87\n",
      "Episode 1300\tAverage Score: -826.01\tScore: -1588.77[1.0152857e-04 9.9970824e-01 1.9018044e-04 9.5496998e+00]\n",
      "Episode 1300\tAverage Score: -826.01\n",
      "Episode 1400\tAverage Score: -708.74\tScore: -118.65[0.27918145 0.338424   0.38239452 4.4524827 ]\n",
      "Episode 1400\tAverage Score: -708.74\n",
      "Episode 1500\tAverage Score: -405.10\tScore: -117.95[0.18397759 0.37338957 0.44263282 4.309056  ]\n",
      "Episode 1500\tAverage Score: -405.10\n",
      "Episode 1600\tAverage Score: -439.56\tScore: 135.9340[1.0177860e-03 9.8985755e-01 9.1247363e-03 6.0203967e+00]\n",
      "Episode 1600\tAverage Score: -439.56\n",
      "Episode 1700\tAverage Score: -393.55\tScore: -268.130[0.34103462 0.24305643 0.41590893 2.2385297 ]\n",
      "Episode 1700\tAverage Score: -393.55\n",
      "Episode 1800\tAverage Score: -407.53\tScore: -1272.52[0.18741538 0.38267842 0.4299062  4.031953  ]\n",
      "Episode 1800\tAverage Score: -407.53\n",
      "Episode 1900\tAverage Score: -463.59\tScore: -1000.00[0.3138247  0.23566125 0.45051408 5.2021832 ]\n",
      "Episode 1900\tAverage Score: -463.59\n",
      "Episode 2000\tAverage Score: -261.20\tScore: 227.27[0.44662493 0.26529875 0.2880763  2.4234242 ]\n",
      "Episode 2000\tAverage Score: -261.20\n",
      "Episode 2100\tAverage Score: -268.92\tScore: -478.750[0.30022407 0.3392837  0.3604922  8.314558  ]\n",
      "Episode 2100\tAverage Score: -268.92\n",
      "Episode 2200\tAverage Score: -185.51\tScore: -1.34[9.8133987e-01 1.7768158e-02 8.9204451e-04 6.1825271e+00]\n",
      "Episode 2200\tAverage Score: -185.51\n",
      "Episode 2300\tAverage Score: -151.60\tScore: -106.73[ 0.31499606  0.24607542  0.43892848 10.472369  ]\n",
      "Episode 2300\tAverage Score: -151.60\n",
      "Episode 2400\tAverage Score: -211.05\tScore: -298.96[0.3316546  0.30076814 0.3675772  8.481424  ]\n",
      "Episode 2400\tAverage Score: -211.05\n",
      "Episode 2500\tAverage Score: -119.93\tScore: 7.38[9.9929953e-01 6.5909151e-04 4.1310752e-05 7.0230432e+00]\n",
      "Episode 2500\tAverage Score: -119.93\n",
      "Episode 2600\tAverage Score: -100.32\tScore: 27.19[9.9896502e-01 1.0062710e-03 2.8717226e-05 5.6981936e+00]\n",
      "Episode 2600\tAverage Score: -100.32\n",
      "Episode 2700\tAverage Score: -83.95\tScore: 47.23[9.9981493e-01 1.7222627e-04 1.2861165e-05 7.2161913e+00]\n",
      "Episode 2700\tAverage Score: -83.95\n",
      "Episode 2800\tAverage Score: -79.39\tScore: -41.19[9.9928111e-01 7.0769270e-04 1.1213996e-05 4.2854085e+00]\n",
      "Episode 2800\tAverage Score: -79.39\n",
      "Episode 2900\tAverage Score: -51.37\tScore: 22.54156[9.9999082e-01 8.8665229e-06 3.9242255e-07 6.6757879e+00]\n",
      "Episode 2900\tAverage Score: -51.37\n",
      "Episode 3000\tAverage Score: -38.08\tScore: -300.58[0.21889208 0.25769523 0.5234127  3.829875  ]\n",
      "Episode 3000\tAverage Score: -38.08\n",
      "Episode 3100\tAverage Score: -56.64\tScore: 65.27[9.9998367e-01 1.2031481e-05 4.2915071e-06 8.9609404e+00]\n",
      "Episode 3100\tAverage Score: -56.64\n",
      "Episode 3200\tAverage Score: -61.99\tScore: -12.5660[9.9995482e-01 4.0566527e-05 4.6247796e-06 6.4802165e+00]\n",
      "Episode 3200\tAverage Score: -61.99\n",
      "Episode 3300\tAverage Score: -89.01\tScore: -306.9200[0.26424575 0.25223342 0.48352084 9.475647  ]\n",
      "Episode 3300\tAverage Score: -89.01\n",
      "Episode 3400\tAverage Score: -65.24\tScore: 56.44[9.9779785e-01 2.0245563e-03 1.7759259e-04 3.6124430e+00]\n",
      "Episode 3400\tAverage Score: -65.24\n",
      "Episode 3500\tAverage Score: -63.26\tScore: 8.226530[0.41265303 0.58329356 0.00405335 3.3563135 ]\n",
      "Episode 3500\tAverage Score: -63.26\n",
      "Episode 3600\tAverage Score: -77.37\tScore: 100.98[2.4303850e-05 9.9997544e-01 2.2362825e-07 4.9017663e+00]\n",
      "Episode 3600\tAverage Score: -77.37\n",
      "Episode 3700\tAverage Score: -82.00\tScore: 43.85[0.22775622 0.4935574  0.2786864  8.346168  ]\n",
      "Episode 3700\tAverage Score: -82.00\n",
      "Episode 3800\tAverage Score: -116.58\tScore: -5.77[3.7917409e-05 9.9995351e-01 8.6330328e-06 4.2402744e+00]\n",
      "Episode 3800\tAverage Score: -116.58\n",
      "Episode 3900\tAverage Score: -78.80\tScore: 2.8048600[0.49638307 0.20627713 0.29733986 7.5223713 ]\n",
      "Episode 3900\tAverage Score: -78.80\n",
      "Episode 4000\tAverage Score: -85.48\tScore: -12.96[1.3544108e-04 7.5859076e-01 2.4127376e-01 3.7530975e+00]\n",
      "Episode 4000\tAverage Score: -85.48\n",
      "Episode 4100\tAverage Score: -49.69\tScore: 10.48[1.1516841e-03 7.6549554e-01 2.3335271e-01 2.9584992e+00]\n",
      "Episode 4100\tAverage Score: -49.69\n",
      "Episode 4200\tAverage Score: -82.73\tScore: -491.450[0.40583724 0.16494645 0.4292163  4.9306316 ]\n",
      "Episode 4200\tAverage Score: -82.73\n",
      "Episode 4300\tAverage Score: -84.43\tScore: 13.98[0.01042259 0.75579005 0.23378737 1.4043738 ]\n",
      "Episode 4300\tAverage Score: -84.43\n",
      "Episode 4400\tAverage Score: -53.87\tScore: 139.01[0.00623678 0.7566547  0.23710851 2.8852477 ]\n",
      "Episode 4400\tAverage Score: -53.87\n",
      "Episode 4500\tAverage Score: -48.79\tScore: -70.80[0.11301187 0.6419589  0.24502926 2.4071374 ]\n",
      "Episode 4500\tAverage Score: -48.79\n",
      "Episode 4600\tAverage Score: -65.91\tScore: 45.94[0.82813853 0.02960113 0.14226025 6.695612  ]\n",
      "Episode 4600\tAverage Score: -65.91\n",
      "Episode 4700\tAverage Score: -56.77\tScore: 3.520420[0.8035994  0.02797929 0.16842125 5.7625074 ]\n",
      "Episode 4700\tAverage Score: -56.77\n",
      "Episode 4800\tAverage Score: -78.32\tScore: -16.1230[0.2717364  0.44110978 0.2871538  7.458081  ]\n",
      "Episode 4800\tAverage Score: -78.32\n",
      "Episode 4900\tAverage Score: -77.55\tScore: 18.94[0.8780151  0.01901999 0.10296494 7.4038773 ]\n",
      "Episode 4900\tAverage Score: -77.55\n",
      "Episode 5000\tAverage Score: -34.90\tScore: -572.100[0.16238984 0.60528123 0.23232892 2.2391958 ]\n",
      "Episode 5000\tAverage Score: -34.90\n",
      "Episode 5032\tAverage Score: -51.30\tScore: 132.700"
     ]
    },
    {
     "ename": "KeyboardInterrupt",
     "evalue": "",
     "output_type": "error",
     "traceback": [
      "\u001b[0;31m---------------------------------------------------------------------------\u001b[0m",
      "\u001b[0;31mKeyboardInterrupt\u001b[0m                         Traceback (most recent call last)",
      "\u001b[0;32m<ipython-input-3-b35e191917d1>\u001b[0m in \u001b[0;36m<module>\u001b[0;34m\u001b[0m\n\u001b[1;32m     28\u001b[0m     \u001b[0;32mreturn\u001b[0m \u001b[0mscores\u001b[0m\u001b[0;34m\u001b[0m\u001b[0;34m\u001b[0m\u001b[0m\n\u001b[1;32m     29\u001b[0m \u001b[0;34m\u001b[0m\u001b[0m\n\u001b[0;32m---> 30\u001b[0;31m \u001b[0mscores\u001b[0m \u001b[0;34m=\u001b[0m \u001b[0mddpg\u001b[0m\u001b[0;34m(\u001b[0m\u001b[0;34m)\u001b[0m\u001b[0;34m\u001b[0m\u001b[0;34m\u001b[0m\u001b[0m\n\u001b[0m\u001b[1;32m     31\u001b[0m \u001b[0;34m\u001b[0m\u001b[0m\n\u001b[1;32m     32\u001b[0m \u001b[0mfig\u001b[0m \u001b[0;34m=\u001b[0m \u001b[0mplt\u001b[0m\u001b[0;34m.\u001b[0m\u001b[0mfigure\u001b[0m\u001b[0;34m(\u001b[0m\u001b[0;34m)\u001b[0m\u001b[0;34m\u001b[0m\u001b[0;34m\u001b[0m\u001b[0m\n",
      "\u001b[0;32m<ipython-input-3-b35e191917d1>\u001b[0m in \u001b[0;36mddpg\u001b[0;34m(n_episodes, max_t)\u001b[0m\n\u001b[1;32m     11\u001b[0m             \u001b[0maction\u001b[0m \u001b[0;34m=\u001b[0m \u001b[0magent\u001b[0m\u001b[0;34m.\u001b[0m\u001b[0mact\u001b[0m\u001b[0;34m(\u001b[0m\u001b[0mstate\u001b[0m\u001b[0;34m,\u001b[0m\u001b[0;32mTrue\u001b[0m\u001b[0;34m)\u001b[0m\u001b[0;34m\u001b[0m\u001b[0;34m\u001b[0m\u001b[0m\n\u001b[1;32m     12\u001b[0m             \u001b[0mnext_state\u001b[0m\u001b[0;34m,\u001b[0m \u001b[0mreward\u001b[0m\u001b[0;34m,\u001b[0m \u001b[0mdone\u001b[0m\u001b[0;34m,\u001b[0m \u001b[0m_\u001b[0m \u001b[0;34m=\u001b[0m \u001b[0menv\u001b[0m\u001b[0;34m.\u001b[0m\u001b[0mstep\u001b[0m\u001b[0;34m(\u001b[0m\u001b[0maction\u001b[0m\u001b[0;34m)\u001b[0m\u001b[0;34m\u001b[0m\u001b[0;34m\u001b[0m\u001b[0m\n\u001b[0;32m---> 13\u001b[0;31m             \u001b[0magent\u001b[0m\u001b[0;34m.\u001b[0m\u001b[0mstep\u001b[0m\u001b[0;34m(\u001b[0m\u001b[0mstate\u001b[0m\u001b[0;34m,\u001b[0m \u001b[0maction\u001b[0m\u001b[0;34m,\u001b[0m \u001b[0mreward\u001b[0m\u001b[0;34m,\u001b[0m \u001b[0mnext_state\u001b[0m\u001b[0;34m,\u001b[0m \u001b[0mdone\u001b[0m\u001b[0;34m)\u001b[0m\u001b[0;34m\u001b[0m\u001b[0;34m\u001b[0m\u001b[0m\n\u001b[0m\u001b[1;32m     14\u001b[0m             \u001b[0mstate\u001b[0m \u001b[0;34m=\u001b[0m \u001b[0mnext_state\u001b[0m\u001b[0;34m\u001b[0m\u001b[0;34m\u001b[0m\u001b[0m\n\u001b[1;32m     15\u001b[0m             \u001b[0mscore\u001b[0m \u001b[0;34m+=\u001b[0m \u001b[0mreward\u001b[0m\u001b[0;34m\u001b[0m\u001b[0;34m\u001b[0m\u001b[0m\n",
      "\u001b[0;32m~/Documents/Akshay/BITS/AI_Concepts/CIKM/CRL/3)ClusterWorld/ddpg_agent.py\u001b[0m in \u001b[0;36mstep\u001b[0;34m(self, state, action, reward, next_state, done)\u001b[0m\n\u001b[1;32m    246\u001b[0m         \u001b[0;32mif\u001b[0m \u001b[0mlen\u001b[0m\u001b[0;34m(\u001b[0m\u001b[0mself\u001b[0m\u001b[0;34m.\u001b[0m\u001b[0mmemory\u001b[0m\u001b[0;34m)\u001b[0m \u001b[0;34m>\u001b[0m \u001b[0mBATCH_SIZE\u001b[0m\u001b[0;34m:\u001b[0m\u001b[0;34m\u001b[0m\u001b[0;34m\u001b[0m\u001b[0m\n\u001b[1;32m    247\u001b[0m             \u001b[0mexperiences\u001b[0m \u001b[0;34m=\u001b[0m \u001b[0mself\u001b[0m\u001b[0;34m.\u001b[0m\u001b[0mmemory\u001b[0m\u001b[0;34m.\u001b[0m\u001b[0msample\u001b[0m\u001b[0;34m(\u001b[0m\u001b[0;34m)\u001b[0m\u001b[0;34m\u001b[0m\u001b[0;34m\u001b[0m\u001b[0m\n\u001b[0;32m--> 248\u001b[0;31m             \u001b[0mself\u001b[0m\u001b[0;34m.\u001b[0m\u001b[0mlearn\u001b[0m\u001b[0;34m(\u001b[0m\u001b[0mexperiences\u001b[0m\u001b[0;34m,\u001b[0m \u001b[0mGAMMA\u001b[0m\u001b[0;34m)\u001b[0m\u001b[0;34m\u001b[0m\u001b[0;34m\u001b[0m\u001b[0m\n\u001b[0m\u001b[1;32m    249\u001b[0m \u001b[0;34m\u001b[0m\u001b[0m\n\u001b[1;32m    250\u001b[0m     \u001b[0;32mdef\u001b[0m \u001b[0msoftmax\u001b[0m\u001b[0;34m(\u001b[0m\u001b[0mself\u001b[0m\u001b[0;34m,\u001b[0m\u001b[0mx\u001b[0m\u001b[0;34m)\u001b[0m\u001b[0;34m:\u001b[0m\u001b[0;34m\u001b[0m\u001b[0;34m\u001b[0m\u001b[0m\n",
      "\u001b[0;32m~/Documents/Akshay/BITS/AI_Concepts/CIKM/CRL/3)ClusterWorld/ddpg_agent.py\u001b[0m in \u001b[0;36mlearn\u001b[0;34m(self, experiences, gamma)\u001b[0m\n\u001b[1;32m    136\u001b[0m         \u001b[0;31m# ----------------------- update target networks ----------------------- #\u001b[0m\u001b[0;34m\u001b[0m\u001b[0;34m\u001b[0m\u001b[0;34m\u001b[0m\u001b[0m\n\u001b[1;32m    137\u001b[0m         \u001b[0mself\u001b[0m\u001b[0;34m.\u001b[0m\u001b[0msoft_update\u001b[0m\u001b[0;34m(\u001b[0m\u001b[0mself\u001b[0m\u001b[0;34m.\u001b[0m\u001b[0mcritic_local\u001b[0m\u001b[0;34m,\u001b[0m \u001b[0mself\u001b[0m\u001b[0;34m.\u001b[0m\u001b[0mcritic_target\u001b[0m\u001b[0;34m,\u001b[0m \u001b[0mTAU\u001b[0m\u001b[0;34m)\u001b[0m\u001b[0;34m\u001b[0m\u001b[0;34m\u001b[0m\u001b[0m\n\u001b[0;32m--> 138\u001b[0;31m         \u001b[0mself\u001b[0m\u001b[0;34m.\u001b[0m\u001b[0msoft_update\u001b[0m\u001b[0;34m(\u001b[0m\u001b[0mself\u001b[0m\u001b[0;34m.\u001b[0m\u001b[0mactor_local\u001b[0m\u001b[0;34m,\u001b[0m \u001b[0mself\u001b[0m\u001b[0;34m.\u001b[0m\u001b[0mactor_target\u001b[0m\u001b[0;34m,\u001b[0m \u001b[0mTAU\u001b[0m\u001b[0;34m)\u001b[0m\u001b[0;34m\u001b[0m\u001b[0;34m\u001b[0m\u001b[0m\n\u001b[0m\u001b[1;32m    139\u001b[0m \u001b[0;34m\u001b[0m\u001b[0m\n\u001b[1;32m    140\u001b[0m \u001b[0;34m\u001b[0m\u001b[0m\n",
      "\u001b[0;32m~/Documents/Akshay/BITS/AI_Concepts/CIKM/CRL/3)ClusterWorld/ddpg_agent.py\u001b[0m in \u001b[0;36msoft_update\u001b[0;34m(self, local_model, target_model, tau)\u001b[0m\n\u001b[1;32m    294\u001b[0m         \"\"\"\n\u001b[1;32m    295\u001b[0m         \u001b[0mlocal_weights\u001b[0m \u001b[0;34m=\u001b[0m \u001b[0mlocal_model\u001b[0m\u001b[0;34m.\u001b[0m\u001b[0mget_weights\u001b[0m\u001b[0;34m(\u001b[0m\u001b[0;34m)\u001b[0m\u001b[0;34m\u001b[0m\u001b[0;34m\u001b[0m\u001b[0m\n\u001b[0;32m--> 296\u001b[0;31m         \u001b[0mtarget_weights\u001b[0m \u001b[0;34m=\u001b[0m \u001b[0mtarget_model\u001b[0m\u001b[0;34m.\u001b[0m\u001b[0mget_weights\u001b[0m\u001b[0;34m(\u001b[0m\u001b[0;34m)\u001b[0m\u001b[0;34m\u001b[0m\u001b[0;34m\u001b[0m\u001b[0m\n\u001b[0m\u001b[1;32m    297\u001b[0m \u001b[0;34m\u001b[0m\u001b[0m\n\u001b[1;32m    298\u001b[0m         \u001b[0;32mfor\u001b[0m \u001b[0mi\u001b[0m \u001b[0;32min\u001b[0m \u001b[0mrange\u001b[0m\u001b[0;34m(\u001b[0m\u001b[0mlen\u001b[0m\u001b[0;34m(\u001b[0m\u001b[0mlocal_weights\u001b[0m\u001b[0;34m)\u001b[0m\u001b[0;34m)\u001b[0m\u001b[0;34m:\u001b[0m\u001b[0;34m\u001b[0m\u001b[0;34m\u001b[0m\u001b[0m\n",
      "\u001b[0;32m/usr/local/lib/python3.7/site-packages/keras/engine/network.py\u001b[0m in \u001b[0;36mget_weights\u001b[0;34m(self)\u001b[0m\n\u001b[1;32m    489\u001b[0m         \u001b[0mweights\u001b[0m \u001b[0;34m=\u001b[0m \u001b[0;34m[\u001b[0m\u001b[0;34m]\u001b[0m\u001b[0;34m\u001b[0m\u001b[0;34m\u001b[0m\u001b[0m\n\u001b[1;32m    490\u001b[0m         \u001b[0;32mfor\u001b[0m \u001b[0mlayer\u001b[0m \u001b[0;32min\u001b[0m \u001b[0mself\u001b[0m\u001b[0;34m.\u001b[0m\u001b[0mlayers\u001b[0m\u001b[0;34m:\u001b[0m\u001b[0;34m\u001b[0m\u001b[0;34m\u001b[0m\u001b[0m\n\u001b[0;32m--> 491\u001b[0;31m             \u001b[0mweights\u001b[0m \u001b[0;34m+=\u001b[0m \u001b[0mlayer\u001b[0m\u001b[0;34m.\u001b[0m\u001b[0mweights\u001b[0m\u001b[0;34m\u001b[0m\u001b[0;34m\u001b[0m\u001b[0m\n\u001b[0m\u001b[1;32m    492\u001b[0m         \u001b[0;32mreturn\u001b[0m \u001b[0mK\u001b[0m\u001b[0;34m.\u001b[0m\u001b[0mbatch_get_value\u001b[0m\u001b[0;34m(\u001b[0m\u001b[0mweights\u001b[0m\u001b[0;34m)\u001b[0m\u001b[0;34m\u001b[0m\u001b[0;34m\u001b[0m\u001b[0m\n\u001b[1;32m    493\u001b[0m \u001b[0;34m\u001b[0m\u001b[0m\n",
      "\u001b[0;32m/usr/local/lib/python3.7/site-packages/keras/engine/base_layer.py\u001b[0m in \u001b[0;36mweights\u001b[0;34m(self)\u001b[0m\n\u001b[1;32m   1020\u001b[0m     \u001b[0;34m@\u001b[0m\u001b[0mproperty\u001b[0m\u001b[0;34m\u001b[0m\u001b[0;34m\u001b[0m\u001b[0m\n\u001b[1;32m   1021\u001b[0m     \u001b[0;32mdef\u001b[0m \u001b[0mweights\u001b[0m\u001b[0;34m(\u001b[0m\u001b[0mself\u001b[0m\u001b[0;34m)\u001b[0m\u001b[0;34m:\u001b[0m\u001b[0;34m\u001b[0m\u001b[0;34m\u001b[0m\u001b[0m\n\u001b[0;32m-> 1022\u001b[0;31m         \u001b[0;32mreturn\u001b[0m \u001b[0mself\u001b[0m\u001b[0;34m.\u001b[0m\u001b[0mtrainable_weights\u001b[0m \u001b[0;34m+\u001b[0m \u001b[0mself\u001b[0m\u001b[0;34m.\u001b[0m\u001b[0mnon_trainable_weights\u001b[0m\u001b[0;34m\u001b[0m\u001b[0;34m\u001b[0m\u001b[0m\n\u001b[0m\u001b[1;32m   1023\u001b[0m \u001b[0;34m\u001b[0m\u001b[0m\n\u001b[1;32m   1024\u001b[0m     \u001b[0;32mdef\u001b[0m \u001b[0mset_weights\u001b[0m\u001b[0;34m(\u001b[0m\u001b[0mself\u001b[0m\u001b[0;34m,\u001b[0m \u001b[0mweights\u001b[0m\u001b[0;34m)\u001b[0m\u001b[0;34m:\u001b[0m\u001b[0;34m\u001b[0m\u001b[0;34m\u001b[0m\u001b[0m\n",
      "\u001b[0;32m/usr/local/lib/python3.7/site-packages/keras/engine/base_layer.py\u001b[0m in \u001b[0;36mnon_trainable_weights\u001b[0;34m(self)\u001b[0m\n\u001b[1;32m    207\u001b[0m         \u001b[0mself\u001b[0m\u001b[0;34m.\u001b[0m\u001b[0m_trainable_weights\u001b[0m \u001b[0;34m=\u001b[0m \u001b[0mweights\u001b[0m\u001b[0;34m\u001b[0m\u001b[0;34m\u001b[0m\u001b[0m\n\u001b[1;32m    208\u001b[0m \u001b[0;34m\u001b[0m\u001b[0m\n\u001b[0;32m--> 209\u001b[0;31m     \u001b[0;34m@\u001b[0m\u001b[0mproperty\u001b[0m\u001b[0;34m\u001b[0m\u001b[0;34m\u001b[0m\u001b[0m\n\u001b[0m\u001b[1;32m    210\u001b[0m     \u001b[0;32mdef\u001b[0m \u001b[0mnon_trainable_weights\u001b[0m\u001b[0;34m(\u001b[0m\u001b[0mself\u001b[0m\u001b[0;34m)\u001b[0m\u001b[0;34m:\u001b[0m\u001b[0;34m\u001b[0m\u001b[0;34m\u001b[0m\u001b[0m\n\u001b[1;32m    211\u001b[0m         \u001b[0mtrainable\u001b[0m \u001b[0;34m=\u001b[0m \u001b[0mgetattr\u001b[0m\u001b[0;34m(\u001b[0m\u001b[0mself\u001b[0m\u001b[0;34m,\u001b[0m \u001b[0;34m'trainable'\u001b[0m\u001b[0;34m,\u001b[0m \u001b[0;32mTrue\u001b[0m\u001b[0;34m)\u001b[0m\u001b[0;34m\u001b[0m\u001b[0;34m\u001b[0m\u001b[0m\n",
      "\u001b[0;31mKeyboardInterrupt\u001b[0m: "
     ]
    }
   ],
   "source": [
    "def ddpg(n_episodes=20000, max_t=10):\n",
    "    scores_deque = deque(maxlen=100)\n",
    "    scores = []\n",
    "    max_score = -np.Inf\n",
    "    for i_episode in range(1, n_episodes+1):\n",
    "        state = env.reset()\n",
    "        agent.reset()\n",
    "\n",
    "        score = 0\n",
    "        for t in range(max_t):\n",
    "            action = agent.act(state,True)\n",
    "            next_state, reward, done, _ = env.step(action)\n",
    "            agent.step(state, action, reward, next_state, done)\n",
    "            state = next_state\n",
    "            score += reward\n",
    "            #print(reward)\n",
    "            if done:\n",
    "                break \n",
    "        scores_deque.append(score)\n",
    "        scores.append(score)\n",
    "        print('\\rEpisode {}\\tAverage Score: {:.2f}\\tScore: {:.2f}'.format(i_episode, np.mean(scores_deque), score), end=\"\")\n",
    "        if i_episode % 100 == 0:\n",
    "            agent.save_network('savedModels/', 'saved.h5')\n",
    "            print(action)\n",
    "            print('\\rEpisode {}\\tAverage Score: {:.2f}'.format(i_episode, np.mean(scores_deque)))\n",
    "        \n",
    "        agent.save_network('savedModels/', 'saved.h5')\n",
    "    return scores\n",
    "\n",
    "scores = ddpg()\n",
    "\n",
    "fig = plt.figure()\n",
    "ax = fig.add_subplot(111)\n",
    "plt.plot(np.arange(1, len(scores)+1), scores)\n",
    "plt.ylabel('Score')\n",
    "plt.xlabel('Episode #')\n",
    "plt.show()"
   ]
  },
  {
   "cell_type": "markdown",
   "metadata": {},
   "source": [
    "### 4. Watch a Smart Agent!\n",
    "\n",
    "In the next code cell, you will load the trained weights from file to watch a smart agent!"
   ]
  },
  {
   "cell_type": "code",
   "execution_count": null,
   "metadata": {},
   "outputs": [],
   "source": [
    "agent.load_network('savedModels/', 'saved.h5')\n",
    "state = env.reset()\n",
    "   \n",
    "while True:\n",
    "    action = agent.act(state,False)\n",
    "    print(action)\n",
    "    env.render()\n",
    "    next_state, reward, done, _ = env.step(action)\n",
    "    state = next_state\n",
    "    if done:\n",
    "        break\n",
    "        \n"
   ]
  },
  {
   "cell_type": "markdown",
   "metadata": {},
   "source": [
    "### 5. Explore\n",
    "\n",
    "In this exercise, we have provided a sample DDPG agent and demonstrated how to use it to solve an OpenAI Gym environment.  To continue your learning, you are encouraged to complete any (or all!) of the following tasks:\n",
    "- Amend the various hyperparameters and network architecture to see if you can get your agent to solve the environment faster than this benchmark implementation.  Once you build intuition for the hyperparameters that work well with this environment, try solving a different OpenAI Gym task!\n",
    "- Write your own DDPG implementation.  Use this code as reference only when needed -- try as much as you can to write your own algorithm from scratch.\n",
    "- You may also like to implement prioritized experience replay, to see if it speeds learning.  \n",
    "- The current implementation adds Ornsetein-Uhlenbeck noise to the action space.  However, it has [been shown](https://blog.openai.com/better-exploration-with-parameter-noise/) that adding noise to the parameters of the neural network policy can improve performance.  Make this change to the code, to verify it for yourself!\n",
    "- Write a blog post explaining the intuition behind the DDPG algorithm and demonstrating how to use it to solve an RL environment of your choosing.  "
   ]
  }
 ],
 "metadata": {
  "kernelspec": {
   "display_name": "Python 3",
   "language": "python",
   "name": "python3"
  },
  "language_info": {
   "codemirror_mode": {
    "name": "ipython",
    "version": 3
   },
   "file_extension": ".py",
   "mimetype": "text/x-python",
   "name": "python",
   "nbconvert_exporter": "python",
   "pygments_lexer": "ipython3",
   "version": "3.7.2"
  }
 },
 "nbformat": 4,
 "nbformat_minor": 2
}
